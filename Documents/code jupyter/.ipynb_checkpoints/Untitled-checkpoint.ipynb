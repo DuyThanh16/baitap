{
 "cells": [
  {
   "cell_type": "code",
   "execution_count": 1,
   "id": "33432363-bdad-48b8-be6c-3359c49c5293",
   "metadata": {},
   "outputs": [
    {
     "name": "stdout",
     "output_type": "stream",
     "text": [
      "5\n"
     ]
    }
   ],
   "source": [
    "a = 2 \n",
    "b = 3\n",
    "c = a + b\n",
    "print(c)"
   ]
  },
  {
   "cell_type": "code",
   "execution_count": 2,
   "id": "057369e9-6b99-49f6-8d59-06399a466faa",
   "metadata": {},
   "outputs": [
    {
     "name": "stdout",
     "output_type": "stream",
     "text": [
      " 1 2 3 4 5 6\n"
     ]
    },
    {
     "name": "stdout",
     "output_type": "stream",
     "text": [
      "4.20\n"
     ]
    }
   ],
   "source": [
    "line = input()\n",
    "a1,b1,c1,a2,b2,a3 = map(float, line.split())\n",
    "TB=((a1+b1+c1)+(a2+b2)*2+a3*3)/10\n",
    "print(f'{TB:.2f}')"
   ]
  },
  {
   "cell_type": "code",
   "execution_count": 1,
   "id": "4abe1102-100d-4fdd-83b6-5915c7a10487",
   "metadata": {},
   "outputs": [
    {
     "name": "stdout",
     "output_type": "stream",
     "text": [
      "10\n"
     ]
    }
   ],
   "source": [
    "a = 5\n",
    "print(a*2)"
   ]
  },
  {
   "cell_type": "code",
   "execution_count": 5,
   "id": "6997500e-7589-485d-8582-4382cbc06ccd",
   "metadata": {},
   "outputs": [
    {
     "name": "stdout",
     "output_type": "stream",
     "text": [
      "27.44\n"
     ]
    }
   ],
   "source": [
    "a = 4\n",
    "b = 10\n",
    "s = (a*b-(3.14*(a/2)**2))\n",
    "print(f'{s:.2f}')"
   ]
  },
  {
   "cell_type": "code",
   "execution_count": 5,
   "id": "d71f00bd-468a-4635-bab1-cae404d19704",
   "metadata": {},
   "outputs": [
    {
     "name": "stdin",
     "output_type": "stream",
     "text": [
      " a\n"
     ]
    },
    {
     "name": "stdout",
     "output_type": "stream",
     "text": [
      "A\n"
     ]
    },
    {
     "name": "stdout",
     "output_type": "stream",
     "text": [
      "V\n"
     ]
    }
   ],
   "source": [
    "\n",
    "c = input()\n",
    "if c.isupper():\n",
    "    print( c.lower())\n",
    "elif c.islower():\n",
    "    print( c.upper())\n",
    "\n"
   ]
  },
  {
   "cell_type": "code",
   "execution_count": 9,
   "id": "abafdc79",
   "metadata": {},
   "outputs": [
    {
     "name": "stdin",
     "output_type": "stream",
     "text": [
      " 6\n"
     ]
    },
    {
     "name": "stdout",
     "output_type": "stream",
     "text": [
      "Trung Bình\n"
     ]
    }
   ],
   "source": [
    "a = float(input())\n",
    "if a >= 8:\n",
    "    print(\"Giỏi\")\n",
    "if a >= 6.5 and a < 8:\n",
    "    print(\"Khá\")\n",
    "if a >= 5 and a < 6.5:\n",
    "    print(\"Trung Bình\")\n",
    "else :\n",
    "    print(\"Yếu\")"
   ]
  },
  {
   "cell_type": "code",
   "execution_count": 11,
   "id": "7c2d1002-f5ee-402b-9591-07a0f69167aa",
   "metadata": {},
   "outputs": [
    {
     "name": "stdin",
     "output_type": "stream",
     "text": [
      " 2025\n"
     ]
    },
    {
     "name": "stdout",
     "output_type": "stream",
     "text": [
      "NO\n"
     ]
    }
   ],
   "source": [
    "c = int(input())\n",
    "if c % 400 == 0 or (c % 4 == 0 and c % 100 != 0):\n",
    "    print(\"YES\")\n",
    "else:\n",
    "    print(\"NO\")\n"
   ]
  },
  {
   "cell_type": "code",
   "execution_count": 1,
   "id": "951c295a-a304-497d-ad33-068b84d93c00",
   "metadata": {},
   "outputs": [
    {
     "name": "stdin",
     "output_type": "stream",
     "text": [
      " 1\n"
     ]
    },
    {
     "name": "stdout",
     "output_type": "stream",
     "text": [
      "Một\n"
     ]
    }
   ],
   "source": [
    "num = int(input())\n",
    "\n",
    "match num:\n",
    "    case 0:\n",
    "        print(\"Không\")\n",
    "    case 1:\n",
    "        print(\"Một\")\n",
    "    case 2:\n",
    "        print(\"Hai\")\n",
    "    case 3:\n",
    "        print(\"Ba\")\n",
    "    case 4:\n",
    "        print(\"Bốn\")\n",
    "    case 5:\n",
    "        print(\"Năm\")\n",
    "    case 6:\n",
    "        print(\"Sáu\")\n",
    "    case 7:\n",
    "        print(\"Bảy\")\n",
    "    case 8:\n",
    "        print(\"Tám\")\n",
    "    case 9:\n",
    "        print(\"Chín\")\n",
    "    case _:\n",
    "        print(\"Số không hợp lệ, vui lòng nhập số từ 0 đến 9.\")\n"
   ]
  },
  {
   "cell_type": "code",
   "execution_count": null,
   "id": "a75ed78a-60ca-45fe-94e6-d0f6d7aa5c1e",
   "metadata": {},
   "outputs": [],
   "source": []
  },
  {
   "cell_type": "code",
   "execution_count": null,
   "id": "c5352f53-e8b1-472a-a6a9-957256c9d136",
   "metadata": {},
   "outputs": [],
   "source": []
  },
  {
   "cell_type": "code",
   "execution_count": null,
   "id": "25cbcca1-9f0c-4473-9618-dfa7e8529d04",
   "metadata": {},
   "outputs": [],
   "source": []
  }
 ],
 "metadata": {
  "kernelspec": {
   "display_name": "Python 3 (ipykernel)",
   "language": "python",
   "name": "python3"
  },
  "language_info": {
   "codemirror_mode": {
    "name": "ipython",
    "version": 3
   },
   "file_extension": ".py",
   "mimetype": "text/x-python",
   "name": "python",
   "nbconvert_exporter": "python",
   "pygments_lexer": "ipython3",
   "version": "3.13.5"
  }
 },
 "nbformat": 4,
 "nbformat_minor": 5
}
