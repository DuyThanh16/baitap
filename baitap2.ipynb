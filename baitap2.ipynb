{
 "cells": [
  {
   "cell_type": "code",
   "execution_count": 28,
   "id": "25cbcca1-9f0c-4473-9618-dfa7e8529d04",
   "metadata": {},
   "outputs": [
    {
     "name": "stdin",
     "output_type": "stream",
     "text": [
      " 6\n"
     ]
    },
    {
     "name": "stdout",
     "output_type": "stream",
     "text": [
      "12\n"
     ]
    }
   ],
   "source": [
    "#1\n",
    "c = int(input())\n",
    "print(c*2)"
   ]
  },
  {
   "cell_type": "code",
   "execution_count": 27,
   "id": "1b732e7e-6fcf-4128-9542-deabc9e245f8",
   "metadata": {},
   "outputs": [
    {
     "name": "stdin",
     "output_type": "stream",
     "text": [
      " 10\n",
      " 6\n"
     ]
    },
    {
     "name": "stdout",
     "output_type": "stream",
     "text": [
      "31.74\n"
     ]
    }
   ],
   "source": [
    "#2\n",
    "a = int(input())\n",
    "b = int(input())\n",
    "s = (a*b-(b/2)**2*3.14)\n",
    "print(f'{s:.2f}')\n"
   ]
  },
  {
   "cell_type": "code",
   "execution_count": 29,
   "id": "93b05749-ed3c-4792-bb68-8213680fb53e",
   "metadata": {},
   "outputs": [
    {
     "name": "stdin",
     "output_type": "stream",
     "text": [
      " B\n"
     ]
    },
    {
     "name": "stdout",
     "output_type": "stream",
     "text": [
      "b\n"
     ]
    }
   ],
   "source": [
    "#3\n",
    "a = input()\n",
    "if a.isupper:\n",
    "    print(a.lower())\n",
    "else:\n",
    "    print(a.upper())"
   ]
  },
  {
   "cell_type": "code",
   "execution_count": 26,
   "id": "833cda04-c73d-49da-a41c-74479bf6258b",
   "metadata": {},
   "outputs": [
    {
     "name": "stdin",
     "output_type": "stream",
     "text": [
      " 2\n"
     ]
    },
    {
     "name": "stdout",
     "output_type": "stream",
     "text": [
      "2 không phải là kí tự alphabet\n"
     ]
    }
   ],
   "source": [
    "#4\n",
    "c = input()\n",
    "if len(c) != 1:\n",
    "    print(\"Vui lòng nhập đúng 1 ký tự!\")\n",
    "if c.isalpha():\n",
    "    print(f\"{c} là kí tự alphabet\")\n",
    "else:\n",
    "    print(f\"{c} không phải là kí tự alphabet\")"
   ]
  },
  {
   "cell_type": "code",
   "execution_count": 25,
   "id": "38582963-bd0f-4a93-abf7-000cfda4712c",
   "metadata": {},
   "outputs": [
    {
     "name": "stdin",
     "output_type": "stream",
     "text": [
      " B\n"
     ]
    },
    {
     "name": "stdout",
     "output_type": "stream",
     "text": [
      "Kết quả: a\n"
     ]
    }
   ],
   "source": [
    "#5\n",
    "c = input()\n",
    "if c == 'A':\n",
    "    print()\n",
    "else:\n",
    "    lower_char = chr(ord(c.lower()) - 1)\n",
    "    print(f\"Kết quả: {lower_char}\")"
   ]
  },
  {
   "cell_type": "code",
   "execution_count": 36,
   "id": "e44a33a8-925e-4fb5-b1b3-5fd20d69653e",
   "metadata": {},
   "outputs": [
    {
     "name": "stdin",
     "output_type": "stream",
     "text": [
      " 3\n",
      " 4\n",
      " 7\n"
     ]
    },
    {
     "name": "stdout",
     "output_type": "stream",
     "text": [
      "Khong phai 3 canh cua tam giac\n"
     ]
    }
   ],
   "source": [
    "#6\n",
    "import math\n",
    "a = int(input())\n",
    "b = int(input())\n",
    "c = int(input())\n",
    "p = (a+b+c)/2\n",
    "if a+b<=c or a+c<=b or b+c<=a:\n",
    "    print(\"Khong phai 3 canh cua tam giac\")\n",
    "else:\n",
    "    s = math.sqrt(p*(p-a)*(p-b)*(p-c))\n",
    "    print(f'{s:.1f}')\n"
   ]
  },
  {
   "cell_type": "code",
   "execution_count": 43,
   "id": "116b86fe-698c-4a51-92f5-d00a87c8d3c1",
   "metadata": {},
   "outputs": [
    {
     "name": "stdin",
     "output_type": "stream",
     "text": [
      " qwertyuiopasdfghjklzxcvbnm\n"
     ]
    },
    {
     "name": "stdout",
     "output_type": "stream",
     "text": [
      "t\n",
      "o\n"
     ]
    }
   ],
   "source": [
    "s = input()\n",
    "a = s[4]\n",
    "b = s[8]\n",
    "print(a)\n",
    "print(b)\n"
   ]
  },
  {
   "cell_type": "code",
   "execution_count": null,
   "id": "bdecf6ed-3bfe-45e7-9efc-5791371f08a8",
   "metadata": {},
   "outputs": [],
   "source": []
  },
  {
   "cell_type": "code",
   "execution_count": 47,
   "id": "8f14f2c5-44ad-46df-93e5-022d66fe2e31",
   "metadata": {},
   "outputs": [
    {
     "name": "stdin",
     "output_type": "stream",
     "text": [
      " 5\n"
     ]
    },
    {
     "name": "stdout",
     "output_type": "stream",
     "text": [
      "So le\n"
     ]
    }
   ],
   "source": [
    "#1\n",
    "c = int(input())\n",
    "if c %2 == 0:\n",
    "    print(\"So chan\")\n",
    "else:\n",
    "    print(\"So le\")"
   ]
  },
  {
   "cell_type": "code",
   "execution_count": 52,
   "id": "40b2893e-327d-4dd3-ada4-ab63957aebbc",
   "metadata": {},
   "outputs": [
    {
     "name": "stdin",
     "output_type": "stream",
     "text": [
      " 2025\n"
     ]
    },
    {
     "name": "stdout",
     "output_type": "stream",
     "text": [
      "True\n"
     ]
    }
   ],
   "source": [
    "#2\n",
    "a = int(input())\n",
    "if a %5 == 0 and a %2 !=0:\n",
    "    print(\"True\")\n",
    "else:\n",
    "    print(\"Fall\")"
   ]
  },
  {
   "cell_type": "code",
   "execution_count": 55,
   "id": "ba61c86a-e217-4295-8d54-6a550d27c2fd",
   "metadata": {},
   "outputs": [
    {
     "name": "stdin",
     "output_type": "stream",
     "text": [
      " 30\n"
     ]
    },
    {
     "name": "stdout",
     "output_type": "stream",
     "text": [
      "True\n"
     ]
    }
   ],
   "source": [
    "#3\n",
    "a = int(input())\n",
    "if a % 3 == 0 and a % 5 == 0:\n",
    "    print(\"True\")\n",
    "else:\n",
    "    print(\"Fall\")"
   ]
  },
  {
   "cell_type": "code",
   "execution_count": 57,
   "id": "718219c0-0d6a-4895-97d1-5f83b36ab772",
   "metadata": {},
   "outputs": [
    {
     "name": "stdin",
     "output_type": "stream",
     "text": [
      " 2000\n"
     ]
    },
    {
     "name": "stdout",
     "output_type": "stream",
     "text": [
      "Du dieu kieu bau cu\n"
     ]
    }
   ],
   "source": [
    "#4\n",
    "a = int(input())\n",
    "if a <= 2007:\n",
    "    print(\"Du dieu kieu bau cu\")\n",
    "else:\n",
    "    print(\"Khong du dieu kien bau cu\")"
   ]
  },
  {
   "cell_type": "code",
   "execution_count": 70,
   "id": "230835e3-7cc1-41a8-82e0-78fd4d1f33f9",
   "metadata": {},
   "outputs": [
    {
     "name": "stdin",
     "output_type": "stream",
     "text": [
      " 3\n",
      " 7\n"
     ]
    },
    {
     "name": "stdout",
     "output_type": "stream",
     "text": [
      "7\n"
     ]
    }
   ],
   "source": [
    "#5\n",
    "a = int(input())\n",
    "b = int(input())\n",
    "if a<b:\n",
    "    print(b)\n",
    "elif a>b:\n",
    "    print(a)\n",
    "else:\n",
    "    print(\"Hai so bang nhau\")"
   ]
  },
  {
   "cell_type": "code",
   "execution_count": null,
   "id": "a6f37e5b-f42e-449f-a4f3-b0fb8ab9f09c",
   "metadata": {},
   "outputs": [],
   "source": []
  }
 ],
 "metadata": {
  "kernelspec": {
   "display_name": "Python 3 (ipykernel)",
   "language": "python",
   "name": "python3"
  },
  "language_info": {
   "codemirror_mode": {
    "name": "ipython",
    "version": 3
   },
   "file_extension": ".py",
   "mimetype": "text/x-python",
   "name": "python",
   "nbconvert_exporter": "python",
   "pygments_lexer": "ipython3",
   "version": "3.13.5"
  }
 },
 "nbformat": 4,
 "nbformat_minor": 5
}
