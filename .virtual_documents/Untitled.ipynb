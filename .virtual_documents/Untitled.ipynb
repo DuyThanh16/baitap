a = 2 
b = 3
c = a + b
print(c)


line = input()
a1,b1,c1,a2,b2,a3 = map(float, line.split())
TB=((a1+b1+c1)+(a2+b2)*2+a3*3)/10
print(f'{TB:.2f}')


a = 5
print(a*2)


a = 4
b = 10
s = (a*b-(3.14*(a/2)**2))
print(f'{s:.2f}')



c = input()
if c.isupper():
    print( c.lower())
elif c.islower():
    print( c.upper())




a = float(input())
if a >= 8:
    print("Giỏi")
if a >= 6.5 and a < 8:
    print("Khá")
if a >= 5 and a < 6.5:
    print("Trung Bình")
else :
    print("Yếu")


c = int(input())
if c % 400 == 0 or (c % 4 == 0 and c % 100 != 0):
    print("YES")
else:
    print("NO")



num = int(input())

match num:
    case 0:
        print("Không")
    case 1:
        print("Một")
    case 2:
        print("Hai")
    case 3:
        print("Ba")
    case 4:
        print("Bốn")
    case 5:
        print("Năm")
    case 6:
        print("Sáu")
    case 7:
        print("Bảy")
    case 8:
        print("Tám")
    case 9:
        print("Chín")
    case _:
        print("Số không hợp lệ, vui lòng nhập số từ 0 đến 9.")










